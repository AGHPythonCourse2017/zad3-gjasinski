{
 "cells": [
  {
   "cell_type": "markdown",
   "metadata": {
    "collapsed": false,
    "deletable": true,
    "editable": true
   },
   "source": [
    "Ionizing radiation is invisible and not directly detectable by human senses, so radiation detection instruments such as Geiger counters are required to detect it. Ionizing radiation is used in a wide variety of fields such as medicine, research, manufacturing, construction, and many other areas, but presents a health hazard if proper measures against undesired exposure aren't followed. Exposure to ionizing radiation causes damage to living tissue, and can result in mutation, radiation sickness, cancer, and death. \n",
    "~ Wikipedia\n",
    "\n",
    "There are fiew pages which provide online measurements abour gamma radiation:\n",
    "http://radioactiveathome.org/map/ -  project conducted by community, anyone can have his one Geiger counter and send data to server\n",
    "http://www.srp.ecocentre.kiev.ua/MEDO-PS/index.php - map with Geiger counters located inside Chernobyl Exclusion Zone\n",
    "http://www.tepco.co.jp/en/nu/fukushima-np/f1/index-e.html - Geiger counters located nearby Fukushima Daiichi Nuclear Power Station"
   ]
  },
  {
   "cell_type": "markdown",
   "metadata": {},
   "source": [
    "In this project I use data from first link. Unfortunately archive data are stored maximum 2 months. Majjority of sensors are located in Europe, thus this project is focused on Europe.\n",
    "There are two modules:\n",
    "- NLPNewsChecker - which extract date and countries(European) from news, and it also checks if news is about ionizing radiation\n",
    "- RadiationScrapingTool - tool which download data from http://radioactiveathome.org/map/ and its archive. Then data are being processed and analised."
   ]
  },
  {
   "cell_type": "markdown",
   "metadata": {},
   "source": [
    "# NLPNewsChecker example"
   ]
  },
  {
   "cell_type": "code",
   "execution_count": null,
   "metadata": {
    "collapsed": true
   },
   "outputs": [],
   "source": [
    "news1 = \"http://www.independent.co.uk/life-style/gadgets-and-tech/news/radiation-europe-russian-missile-strike-radioactive-material-france-norway-iodine-131-irsn-a7591886.html\"\n",
    "news2 = \"http://www.mirror.co.uk/science/nuclear-radiation-been-spreading-across-9861177\"\n",
    "news3 = \"http://www.livemint.com/Politics/JCr7gRUyV7l8xtkWwhwHfN/High-air-pollution-levels-may-hit-Indias-solar-power-genera.html\""
   ]
  },
  {
   "cell_type": "code",
   "execution_count": null,
   "metadata": {
    "collapsed": true
   },
   "outputs": [],
   "source": [
    "from nlp_news_checker import NLPNewsChecker\n",
    "nlp_news1 = NLPNewsChecker(news1)\n",
    "nlp_news2 = NLPNewsChecker(news2)\n",
    "nlp_news3 = NLPNewsChecker(news3)"
   ]
  },
  {
   "cell_type": "code",
   "execution_count": null,
   "metadata": {
    "collapsed": true
   },
   "outputs": [],
   "source": []
  },
  {
   "cell_type": "code",
   "execution_count": null,
   "metadata": {
    "collapsed": true
   },
   "outputs": [],
   "source": []
  },
  {
   "cell_type": "code",
   "execution_count": null,
   "metadata": {
    "collapsed": true
   },
   "outputs": [],
   "source": []
  },
  {
   "cell_type": "code",
   "execution_count": null,
   "metadata": {
    "collapsed": true
   },
   "outputs": [],
   "source": []
  },
  {
   "cell_type": "code",
   "execution_count": null,
   "metadata": {
    "collapsed": true
   },
   "outputs": [],
   "source": []
  },
  {
   "cell_type": "code",
   "execution_count": null,
   "metadata": {
    "collapsed": true
   },
   "outputs": [],
   "source": []
  },
  {
   "cell_type": "code",
   "execution_count": null,
   "metadata": {
    "collapsed": true
   },
   "outputs": [],
   "source": []
  },
  {
   "cell_type": "code",
   "execution_count": null,
   "metadata": {
    "collapsed": true
   },
   "outputs": [],
   "source": []
  },
  {
   "cell_type": "code",
   "execution_count": null,
   "metadata": {
    "collapsed": true
   },
   "outputs": [],
   "source": [
    "from radiation_scraping_tool import RadiationScrapingTool"
   ]
  },
  {
   "cell_type": "code",
   "execution_count": 2,
   "metadata": {
    "collapsed": true,
    "deletable": true,
    "editable": true
   },
   "outputs": [],
   "source": [
    "tool = RadiationScrapingTool()"
   ]
  },
  {
   "cell_type": "code",
   "execution_count": 3,
   "metadata": {
    "collapsed": false,
    "deletable": true,
    "editable": true
   },
   "outputs": [
    {
     "data": {
      "image/png": "[encoded data removed]",
      "text/plain": [
       "<matplotlib.figure.Figure at 0x7ffb2362e1d0>"
      ]
     },
     "metadata": {},
     "output_type": "display_data"
    },
    {
     "name": "stdout",
     "output_type": "stream",
     "text": [
      "All average measurements are in quota\n",
      "This sensor has 0.00% measurements above 0.3 uSv/h\n"
     ]
    }
   ],
   "source": [
    "data = tool.check_radiation_in_city_day(\"Krak\", \"2017-06-04\", 10)"
   ]
  },
  {
   "cell_type": "code",
   "execution_count": 123,
   "metadata": {
    "collapsed": false
   },
   "outputs": [],
   "source": [
    "prepared_data = RadiationScrapingTool.get_min_max_avg_per_hour(data[len(data)-1][1])"
   ]
  },
  {
   "cell_type": "code",
   "execution_count": 124,
   "metadata": {
    "collapsed": false
   },
   "outputs": [
    {
     "data": {
      "text/plain": [
       "array([[ 0.12431756,  0.17163527,  0.14288827],\n",
       "       [ 0.14214637,  0.14315158,  0.14264897],\n",
       "       [ 0.11849699,  0.1769697 ,  0.14154326],\n",
       "       [ 0.13894315,  0.15799599,  0.14857446],\n",
       "       [ 0.13056016,  0.16352   ,  0.14725305],\n",
       "       [ 0.11691692,  0.16279257,  0.14301261],\n",
       "       [ 0.13305959,  0.14764456,  0.13938344],\n",
       "       [ 0.        ,  0.        ,  0.        ],\n",
       "       [ 0.13149862,  0.16055986,  0.14747084],\n",
       "       [ 0.        ,  0.        ,  0.        ],\n",
       "       [ 0.        ,  0.        ,  0.        ],\n",
       "       [ 0.        ,  0.        ,  0.        ],\n",
       "       [ 0.        ,  0.        ,  0.        ],\n",
       "       [ 0.        ,  0.        ,  0.        ],\n",
       "       [ 0.        ,  0.        ,  0.        ],\n",
       "       [ 0.        ,  0.        ,  0.        ],\n",
       "       [ 0.        ,  0.        ,  0.        ],\n",
       "       [ 0.        ,  0.        ,  0.        ],\n",
       "       [ 0.        ,  0.        ,  0.        ],\n",
       "       [ 0.        ,  0.        ,  0.        ],\n",
       "       [ 0.        ,  0.        ,  0.        ],\n",
       "       [ 0.        ,  0.        ,  0.        ],\n",
       "       [ 0.        ,  0.        ,  0.        ],\n",
       "       [ 0.        ,  0.        ,  0.        ]])"
      ]
     },
     "execution_count": 124,
     "metadata": {},
     "output_type": "execute_result"
    }
   ],
   "source": [
    "prepared_data"
   ]
  },
  {
   "cell_type": "code",
   "execution_count": 125,
   "metadata": {
    "collapsed": false
   },
   "outputs": [
    {
     "data": {
      "image/png": "[encoded data removed]",
      "text/plain": [
       "<matplotlib.figure.Figure at 0x7efcab9e6470>"
      ]
     },
     "metadata": {},
     "output_type": "display_data"
    }
   ],
   "source": [
    "import matplotlib.pyplot as plt\n",
    "(c1, c2) = coords = (20.1,19.99)\n",
    "fig, ax = plt.subplots(figsize=(15,5))\n",
    "\n",
    "width = 1\n",
    "min_v = ax.bar([x * 4 for x in range(24)], prepared_data[:,0], width, color='g')\n",
    "max_v = ax.bar([x * 4 + 1 for x in range(24)], prepared_data[:,1], width, color='r')\n",
    "avg_v = ax.bar([x * 4 + 2 for x in range(24)], prepared_data[:,2], width, color='b')\n",
    "\n",
    "ax.set_ylabel('Radiation [uSv]')\n",
    "ax.set_title('Minimum, maximum, average radiation per hour - sensor position ' + str(c1) + '° ' + str(c2) + '°')\n",
    "ax.set_xticks([x * 4 for x in range(24)])\n",
    "ax.set_xticklabels([x for x in range(24)])\n",
    "\n",
    "ax.legend((min_v[0], max_v[0], avg_v[0]), ('min', 'max', 'avg'))\n",
    "\n",
    "plt.show()"
   ]
  },
  {
   "cell_type": "code",
   "execution_count": null,
   "metadata": {
    "collapsed": true
   },
   "outputs": [],
   "source": []
  }
 ],
 "metadata": {
  "kernelspec": {
   "display_name": "Python 3",
   "language": "python",
   "name": "python3"
  },
  "language_info": {
   "codemirror_mode": {
    "name": "ipython",
    "version": 3
   },
   "file_extension": ".py",
   "mimetype": "text/x-python",
   "name": "python",
   "nbconvert_exporter": "python",
   "pygments_lexer": "ipython3",
   "version": "3.5.3"
  }
 },
 "nbformat": 4,
 "nbformat_minor": 2
}
